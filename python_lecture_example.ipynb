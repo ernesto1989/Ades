{
  "nbformat": 4,
  "nbformat_minor": 0,
  "metadata": {
    "colab": {
      "provenance": [],
      "authorship_tag": "ABX9TyMej5rWG6qUWyAaXeaPxUjW",
      "include_colab_link": true
    },
    "kernelspec": {
      "name": "python3",
      "display_name": "Python 3"
    },
    "language_info": {
      "name": "python"
    }
  },
  "cells": [
    {
      "cell_type": "markdown",
      "metadata": {
        "id": "view-in-github",
        "colab_type": "text"
      },
      "source": [
        "<a href=\"https://colab.research.google.com/github/ernesto1989/Ades/blob/master/python_lecture_example.ipynb\" target=\"_parent\"><img src=\"https://colab.research.google.com/assets/colab-badge.svg\" alt=\"Open In Colab\"/></a>"
      ]
    },
    {
      "cell_type": "code",
      "execution_count": null,
      "metadata": {
        "colab": {
          "base_uri": "https://localhost:8080/"
        },
        "id": "EJMZ_qk0n8v_",
        "outputId": "3258666c-dd4b-4c52-af09-6d44f481256b"
      },
      "outputs": [
        {
          "output_type": "stream",
          "name": "stdout",
          "text": [
            "Give me the first number a: 25\n",
            "Give me the second number b: 30\n",
            "The product of both numbers is:  750\n"
          ]
        }
      ],
      "source": [
        "def product(a,b):\n",
        "  return a*b\n",
        "\n",
        "\n",
        "a = int(input(\"Give me the first number a: \"))\n",
        "b = int(input(\"Give me the second number b: \"))\n",
        "\n",
        "print(\"The product of both numbers is: \", product(a,b))\n"
      ]
    }
  ]
}